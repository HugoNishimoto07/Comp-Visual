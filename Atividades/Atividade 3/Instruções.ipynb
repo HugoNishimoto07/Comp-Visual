{
 "cells": [
  {
   "cell_type": "markdown",
   "metadata": {},
   "source": [
    "# **Computação Visual**\n",
    "*Prof. André Kishimoto*"
   ]
  },
  {
   "cell_type": "markdown",
   "metadata": {},
   "source": [
    "- [Imagens em Python (PIL)](#imagens-em-python-pil)\n",
    "- [Processamento de imagens](#processamento-de-imagens)\n",
    "- [Exercícios](#exercícios)"
   ]
  },
  {
   "attachments": {},
   "cell_type": "markdown",
   "metadata": {},
   "source": [
    "#### **Observação**: *Ao enviar as alterações com sua solução final no repositório git, certifique-se que o notebook está com todas as saídas executadas, de forma que, ao abrir o arquivo no GitHub (navegador), todas as saídas estarão visíveis.*"
   ]
  },
  {
   "cell_type": "markdown",
   "metadata": {},
   "source": [
    "# Imagens em Python (PIL)\n",
    "\n",
    "Existem diversas maneiras para trabalharmos com imagens (I/O) em Python.\n",
    "\n",
    "Uma possibilidade é usar a `PIL/Pillow`, biblioteca de imagem do Python (Python Imaging Library).\n",
    "\n",
    "Você provavelmente deve ter o pacote instalado na sua máquina que contenha o Python. Vamos verificar?"
   ]
  },
  {
   "cell_type": "code",
   "execution_count": null,
   "metadata": {},
   "outputs": [],
   "source": [
    "import PIL\n",
    "\n",
    "print(f'Versão do PIL/Pillow: {PIL.__version__}')"
   ]
  },
  {
   "cell_type": "markdown",
   "metadata": {},
   "source": [
    "Caso não tenha, acesse o link [https://python-pillow.org/](https://python-pillow.org/) para verificar como instalar o pacote. Mesmo que não precise instalar, consulte o site para a documentação."
   ]
  },
  {
   "cell_type": "markdown",
   "metadata": {},
   "source": [
    "## Carregando uma imagem com PIL\n",
    "\n",
    "Para carregar uma imagem com PIL, usamos o módulo `Image` e a função `open()`.\n",
    "\n",
    "No exemplo a seguir, estamos assumindo que a imagem `kodim23.png` está no mesmo diretório que este notebook."
   ]
  },
  {
   "cell_type": "code",
   "execution_count": null,
   "metadata": {},
   "outputs": [],
   "source": [
    "from PIL import Image\n",
    "\n",
    "img = Image.open('kodim23.png')"
   ]
  },
  {
   "cell_type": "markdown",
   "metadata": {},
   "source": [
    "## Atributos da imagem\n",
    "\n",
    "Com a imagem carregada na memória e atribuída à variável `img`, podemos acessar atributos do arquivo de imagem, tais como resolução, formato e modo da imagem:"
   ]
  },
  {
   "cell_type": "code",
   "execution_count": null,
   "metadata": {},
   "outputs": [],
   "source": [
    "print(f'img: {type(img)}')\n",
    "print(f'Arquivo: {img.filename}')\n",
    "print(f'Resolução: {img.size} ({img.width}x{img.height})')\n",
    "print(f'Formato: {img.format}')\n",
    "print(f'Modo: {img.mode}')"
   ]
  },
  {
   "cell_type": "markdown",
   "metadata": {},
   "source": [
    "## Visualizando a imagem\n",
    "\n",
    "Para abrir a imagem, podemos usar a função `show()`. Porém, a imagem será aberta no visualizador padrão da sua máquina. Observe que o arquivo em si nem sempre é o mesmo arquivo original (`kodim23.png`, nesse exemplo)."
   ]
  },
  {
   "cell_type": "code",
   "execution_count": null,
   "metadata": {},
   "outputs": [],
   "source": [
    "img.show()"
   ]
  },
  {
   "cell_type": "markdown",
   "metadata": {},
   "source": [
    "## Visualizando a imagem no notebook\n",
    "\n",
    "Seria bom visualizarmos a imagem aqui no notebook, não? Para isso, vamos usar o `Matplotlib`:"
   ]
  },
  {
   "cell_type": "code",
   "execution_count": null,
   "metadata": {},
   "outputs": [],
   "source": [
    "import matplotlib.pyplot as plt\n",
    "\n",
    "plt.imshow(img)\n",
    "plt.show()"
   ]
  },
  {
   "cell_type": "markdown",
   "metadata": {},
   "source": [
    "## Leitura e escrita dos pixels\n",
    "\n",
    "`PIL` oferece funções para leitura e escrita dos pixels da imagem: `getpixel()` e `putpixel()`, respectivamente."
   ]
  },
  {
   "cell_type": "code",
   "execution_count": null,
   "metadata": {},
   "outputs": [],
   "source": [
    "print(img.getpixel((0, 0)))"
   ]
  },
  {
   "cell_type": "markdown",
   "metadata": {},
   "source": [
    "O resultado anterior significa que o pixel na posição (0, 0) da imagem original (canto superior esquerdo) possui a cor (116, 116, 88). Ou seja, canal vermelho `R=116`, canal verde `G=116` e canal azul `B=88`, que resulta em uma cor no [tom amarelo escuro](https://www.colorhexa.com/747458)."
   ]
  },
  {
   "cell_type": "code",
   "execution_count": null,
   "metadata": {},
   "outputs": [],
   "source": [
    "putpixel_count = 0\n",
    "while putpixel_count < 512:\n",
    "    img.putpixel((putpixel_count, putpixel_count), (255, 0, 255))\n",
    "    putpixel_count += 1"
   ]
  },
  {
   "cell_type": "markdown",
   "metadata": {},
   "source": [
    "No trecho de código anterior, alteramos parte dos pixels da imagem, preenchendo uma diagonal que começa em (0,0) e termina em (512, 512) com a cor magenta (`R=255`, `B=0`, `G=255`).\n",
    "\n",
    "Exibindo a imagem novamente, com os pixels modificados, temos:"
   ]
  },
  {
   "cell_type": "code",
   "execution_count": null,
   "metadata": {},
   "outputs": [],
   "source": [
    "plt.imshow(img)\n",
    "plt.show()"
   ]
  },
  {
   "cell_type": "markdown",
   "metadata": {},
   "source": [
    "## Salvando a imagem\n",
    "\n",
    "Podemos salvar a imagem modificada com a função `save()`.\n",
    "\n",
    "Queremos manter o arquivo original, portanto, vamos dar um novo nome para o arquivo."
   ]
  },
  {
   "cell_type": "code",
   "execution_count": null,
   "metadata": {},
   "outputs": [],
   "source": [
    "new_filename = f'{img.filename[:-4]}-modified.png'\n",
    "img.save(new_filename)"
   ]
  },
  {
   "cell_type": "markdown",
   "metadata": {},
   "source": [
    "## Imagens e NumPy\n",
    "\n",
    "Podemos criar um array do `NumPy` com os pixels da imagem carregada e, a partir desse ponto, manipular diretamente os valores do array.\n",
    "\n",
    "No trecho de código a seguir, leio novamente o arquivo, pois os pixels originais foram modificados anteriormente. O código a seguir também não depende da execução das células anteriores."
   ]
  },
  {
   "cell_type": "code",
   "execution_count": null,
   "metadata": {},
   "outputs": [],
   "source": [
    "import numpy as np\n",
    "import matplotlib.pyplot as plt\n",
    "\n",
    "from PIL import Image\n",
    "\n",
    "img = Image.open('kodim23.png')\n",
    "img_array = np.array(img)\n",
    "\n",
    "print(f'Tipo de img: {type(img)}')\n",
    "print(f'Tipo de img_array: {type(img_array)}')\n",
    "print(f'Formato do array img_array: {img_array.shape}')\n",
    "\n",
    "plt.imshow(img_array)\n",
    "plt.show()"
   ]
  },
  {
   "attachments": {},
   "cell_type": "markdown",
   "metadata": {},
   "source": [
    "# Processamento de imagens\n",
    "\n",
    "## Inversão de cores\n",
    "\n",
    "Uma operação que podemos realizar é a de inverter as cores de uma imagem, obtendo seu negativo, por meio da seguinte equação:\n",
    "\n",
    "> $c = m - o$\n",
    ">\n",
    "> (eq. 1)\n",
    "\n",
    "Sendo:\n",
    "- $c$ : Cor final do pixel.\n",
    "- $m$ : Valor máximo do pixel (255 ou 1.0, dependendo do tipo de dado).\n",
    "- $o$ : Cor original do pixel.\n",
    "\n",
    "No código a seguir, criamos um novo array do `NumPy` aplicando a equação 1 e usando o array com os pixels originais da imagem como o parâmetro $o$. Como os valores das cores são números inteiros que variam de 0 (sem influência do canal da cor) a 255 (máxima influência do canal da cor), usamos $m$ = 255."
   ]
  },
  {
   "cell_type": "code",
   "execution_count": null,
   "metadata": {},
   "outputs": [],
   "source": [
    "img_invert = np.array(255 - img_array)\n",
    "\n",
    "plt.imshow(img_invert)\n",
    "plt.show()"
   ]
  },
  {
   "cell_type": "markdown",
   "metadata": {},
   "source": [
    "## Conversão para tons de cinza\n",
    "\n",
    "Um arquivo de imagem cujo modo seja *grayscale* ao invés do modo *RGB* contém apenas um canal de cor.\n",
    "\n",
    "Entretanto, podemos converter uma imagem colorida para tons de cinza.\n",
    "\n",
    "Uma possível solução, mas que geralmente não é a mais aplicada, é calcular a média dos canais de cores:\n",
    "\n",
    "> $m = (r + g + b) / 3$\n",
    ">\n",
    "> (eq. 2)\n",
    "\n",
    "Sendo:\n",
    "- $m$ : Média dos canais de cores.\n",
    "- $r$ : Valor do canal vermelho.\n",
    "- $g$ : Valor do canal verde.\n",
    "- $b$ : Valor do canal azul.\n",
    "\n",
    "Uma vez obtido o valor de $m$, substituímos os valores de cada canal de cor ($r$, $g$, $b$) por $m$."
   ]
  },
  {
   "cell_type": "markdown",
   "metadata": {},
   "source": [
    "---\n",
    "# Exercícios"
   ]
  },
  {
   "attachments": {},
   "cell_type": "markdown",
   "metadata": {},
   "source": [
    "**Atividade em grupo de até 3 pessoas.**\n",
    "\n",
    "Por favor, insira a identificação de cada integrante do grupo na célula Python a seguir:"
   ]
  },
  {
   "cell_type": "code",
   "execution_count": null,
   "metadata": {},
   "outputs": [],
   "source": [
    "# Identificação do grupo:\n",
    "# - Nome completo da pessoa, TIA\n",
    "# - Nome completo da pessoa, TIA\n",
    "# - Nome completo da pessoa, TIA"
   ]
  },
  {
   "attachments": {},
   "cell_type": "markdown",
   "metadata": {},
   "source": [
    "**Exercício 1.** Neste material, usamos apenas o `PIL` para carregar uma imagem. Pesquise como é possível usar o `Matplotlib`, `scikit-image` e `OpenCV` para realizar a mesma tarefa e, na célula Python a seguir, escreva um código que mostre como carregar uma mesma imagem com cada biblioteca. Em seguida, exiba a imagem que foi carregada na memória por cada biblioteca usando o `Matplotlib`."
   ]
  },
  {
   "cell_type": "code",
   "execution_count": null,
   "metadata": {},
   "outputs": [],
   "source": [
    "# *** TODO: Exercício 1 - Remover esses comentários TODO após a implementação. ***\n",
    "\n",
    "# TODO: Código para carregar uma imagem usando:\n",
    "# - Matplotlib\n",
    "# - scikit-image\n",
    "# - OpenCV\n",
    "\n",
    "# TODO: Código para exibir as imagens carregadas acima.\n",
    "# Dica: veja a função subplots()."
   ]
  },
  {
   "cell_type": "markdown",
   "metadata": {},
   "source": [
    "**Exercício 2.** Implemente uma função `grayscale(img_color)` que recebe um array `NumPy` contendo os dados de uma imagem colorida e que retorna um array `NumPy` com a versão tons de cinza da imagem. Os tons de cinza devem ser calculados usando a equação 2. *Observação: Use a célula Python abaixo para implementar o código do exercício e a célula seguinte para testar a função.*\n",
    "\n",
    "Exemplo de uso:\n",
    "\n",
    "> ```python\n",
    "> import numpy as np\n",
    "> import matplotlib.pyplot as plt\n",
    "> from PIL import Image\n",
    "> \n",
    "> img = Image.open('kodim23.png')\n",
    "> img_array = np.array(img)\n",
    "> img_array_grayscale = grayscale(img_array)\n",
    "> print(f'Original: {img_array.shape} {type(img_array)}')\n",
    "> print(f'Cinza: {img_array_grayscale.shape} {type(img_array_grayscale)}')\n",
    "> plt.imshow(img_array_grayscale, cmap=plt.cm.gray)\n",
    "> plt.show()\n",
    "> ```\n",
    "\n",
    "Saída:\n",
    "\n",
    "> ```python\n",
    "> Original: (512, 768, 3) <class 'numpy.ndarray'>\n",
    "> Cinza: (512, 768) <class 'numpy.ndarray'>\n",
    "> ```\n",
    "> ![exercicio-saida.png](exercicio-saida.png)"
   ]
  },
  {
   "cell_type": "code",
   "execution_count": null,
   "metadata": {},
   "outputs": [],
   "source": [
    "# *** TODO: Exercício 2 - Implementar a função e remover esse comentário TODO. ***\n",
    "def grayscale(img_color):\n",
    "    return NOT_IMPLEMENTED"
   ]
  },
  {
   "cell_type": "code",
   "execution_count": null,
   "metadata": {},
   "outputs": [],
   "source": [
    "# Rode o código dessa célula Python para testar a sua implementação da célula anterior.\n",
    "import numpy as np\n",
    "import matplotlib.pyplot as plt\n",
    "from PIL import Image\n",
    "\n",
    "img = Image.open('kodim23.png')\n",
    "img_array = np.array(img)\n",
    "img_array_grayscale = grayscale(img_array)\n",
    "print(f'Original: {img_array.shape} {type(img_array)}')\n",
    "print(f'Cinza: {img_array_grayscale.shape} {type(img_array_grayscale)}')\n",
    "plt.imshow(img_array_grayscale, cmap=plt.cm.gray)\n",
    "plt.show()"
   ]
  },
  {
   "attachments": {},
   "cell_type": "markdown",
   "metadata": {},
   "source": [
    "**Exercício 3.** A biblioteca `scikit-image` possui uma função `rgb2gray()` que realiza a conversão de RGB para tons de cinza.\n",
    "\n",
    "Verifique qual é a equação de conversão usada pelo `scikit-image` e reescreva sua função do exercício 2 de forma que a nova função use a mesma equação de conversão do `scikit-image`.\n",
    "\n",
    "**Atenção** Não é para chamar a função `rgb2gray()` no seu código, mas para reimplementar essa função.\n",
    "\n",
    "*Observação: Use a célula Python abaixo para implementar o código do exercício e a célula seguinte para testar a função.*"
   ]
  },
  {
   "cell_type": "code",
   "execution_count": null,
   "metadata": {},
   "outputs": [],
   "source": [
    "# *** TODO: Exercício 3 - Implementar a função e remover esse comentário TODO. ***\n",
    "def grayscale2(img_color):\n",
    "    return NOT_IMPLEMENTED"
   ]
  },
  {
   "cell_type": "code",
   "execution_count": null,
   "metadata": {},
   "outputs": [],
   "source": [
    "# Rode o código dessa célula Python para testar a sua implementação da célula anterior.\n",
    "import numpy as np\n",
    "import matplotlib.pyplot as plt\n",
    "from PIL import Image\n",
    "\n",
    "img = Image.open('kodim23.png')\n",
    "img_array = np.array(img)\n",
    "img_array_grayscale = grayscale2(img_array)\n",
    "print(f'Original: {img_array.shape} {type(img_array)}')\n",
    "print(f'Cinza: {img_array_grayscale.shape} {type(img_array_grayscale)}')\n",
    "plt.imshow(img_array_grayscale, cmap=plt.cm.gray)\n",
    "plt.show()"
   ]
  }
 ],
 "metadata": {
  "kernelspec": {
   "display_name": "Python 3",
   "language": "python",
   "name": "python3"
  },
  "language_info": {
   "codemirror_mode": {
    "name": "ipython",
    "version": 3
   },
   "file_extension": ".py",
   "mimetype": "text/x-python",
   "name": "python",
   "nbconvert_exporter": "python",
   "pygments_lexer": "ipython3",
   "version": "3.9.6"
  },
  "orig_nbformat": 4,
  "vscode": {
   "interpreter": {
    "hash": "81794d4967e6c3204c66dcd87b604927b115b27c00565d3d43f05ba2f3a2cb0d"
   }
  }
 },
 "nbformat": 4,
 "nbformat_minor": 2
}

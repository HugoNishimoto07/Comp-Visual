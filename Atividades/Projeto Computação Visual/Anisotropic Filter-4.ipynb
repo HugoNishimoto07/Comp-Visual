{
 "cells": [
  {
   "cell_type": "markdown",
   "id": "c86fe06e",
   "metadata": {},
   "source": [
    "#**Projeto Computação Visual - Anisotropic Diffusion Filter**"
   ]
  },
  {
   "cell_type": "markdown",
   "id": "977418c0",
   "metadata": {},
   "source": [
    "#Filtro de Difusão Anisotrópico\n",
    "\n",
    "O filtro de difusão anisotrópico é utilizado para remover o ruído de imagens digitais sem que haja um \"blur\" das bordas. \n",
    "\n",
    "Caso o coeficiente de difusão seja constante, a equação do filtro pode ser reduzida para a equação gaussiana de blur.\n",
    "\n",
    "Outra utilidade do filtro é sua capacidade de poder atuar na detecção de bordas.\n"
   ]
  },
  {
   "cell_type": "markdown",
   "id": "60ac55da",
   "metadata": {},
   "source": [
    "#Exemplo do filtro anisotrópico\n",
    "\n",
    "A seguir há um exemplo do filtro anisotrópico.\n",
    "\n",
    "Outros filtros como o gaussiano e o bilateral estão também sendo representado juntos a imagem original e o filtro anisotrópico para efeito comparativo"
   ]
  },
  {
   "cell_type": "code",
   "execution_count": null,
   "id": "3e778352",
   "metadata": {},
   "outputs": [],
   "source": [
    "import cv2\n",
    "import numpy as np\n",
    "from matplotlib import pyplot as plt\n",
    "from glob import glob\n",
    "\n",
    "im=cv2.imread(\"rcube.jpg\")\n",
    "\n",
    "img_paths=glob('*.jpg') \n",
    "for path in img_paths:\n",
    "    im=cv2.imread(path)\n",
    "    bb=cv2.GaussianBlur(im,(5,5),0)\n",
    "    b1=cv2.bilateralFilter(im,5,5,5)\n",
    "    iimm=cv2.ximgproc.anisotropicDiffusion(im,0.1,0.05,2)\n",
    "    plt.subplot(2, 2, 1)\n",
    "    plt.imshow(im)\n",
    "    plt.title('original')\n",
    "    plt.subplot(2, 2, 2)\n",
    "    plt.imshow(bb)\n",
    "    plt.title('gaussian')\n",
    "    plt.subplot(2, 2, 3)\n",
    "    plt.imshow(b1)\n",
    "    plt.title('bilateral')\n",
    "    plt.subplot(2, 2, 4)\n",
    "    plt.imshow(iimm)\n",
    "    plt.title('anisotropic')\n",
    "    plt.show()\n",
    "    cv2.waitKey(0)\n",
    "    \n",
    "\n",
    "cv2.imshow('i',iimm)\n",
    "cv2.waitKey(0)\n",
    "cv2.destroyAllWindows()"
   ]
  },
  {
   "cell_type": "markdown",
   "id": "6ffb6f42",
   "metadata": {},
   "source": [
    "cv2.ximgproc.anisotropicDiffusion()\n",
    "\n",
    "É uma função da biblioteca do opencv, na qual permite aplicar o anisotropic diffusion filter, contendo os seguintes parâmetros:\n",
    "\n",
    "- img: Imagem fonte;\n",
    "- alpha: A quantidade de tempo que deve avançar a cada iteração;\n",
    "- K: Sensibilidade da bordas;\n",
    "- Niters: Número de iterações."
   ]
  },
  {
   "cell_type": "markdown",
   "id": "46eb3c97",
   "metadata": {},
   "source": [
    "Referências:\n",
    "\n",
    "- https://docs.opencv.org/3.4/df/d2d/group__ximgproc.html\n",
    "- https://en.wikipedia.org/wiki/Anisotropic_diffusion"
   ]
  }
 ],
 "metadata": {
  "kernelspec": {
   "display_name": "Python 3 (ipykernel)",
   "language": "python",
   "name": "python3"
  },
  "language_info": {
   "codemirror_mode": {
    "name": "ipython",
    "version": 3
   },
   "file_extension": ".py",
   "mimetype": "text/x-python",
   "name": "python",
   "nbconvert_exporter": "python",
   "pygments_lexer": "ipython3",
   "version": "3.11.2"
  }
 },
 "nbformat": 4,
 "nbformat_minor": 5
}
